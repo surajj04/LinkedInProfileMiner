{
 "cells": [
  {
   "cell_type": "code",
   "execution_count": 4,
   "id": "ff95d752",
   "metadata": {},
   "outputs": [],
   "source": [
    "import pandas as pd"
   ]
  },
  {
   "cell_type": "code",
   "execution_count": 5,
   "id": "13bfd1b6",
   "metadata": {},
   "outputs": [],
   "source": [
    "df = pd.read_csv('profile_experience.csv')"
   ]
  },
  {
   "cell_type": "code",
   "execution_count": 9,
   "id": "12d93eeb",
   "metadata": {},
   "outputs": [
    {
     "name": "stdout",
     "output_type": "stream",
     "text": [
      "             Name                                           Headline  \\\n",
      "0  Kunal Kushwaha  Teaching millions how to code and helping busi...   \n",
      "\n",
      "                          Location  \\\n",
      "0  London, England, United Kingdom   \n",
      "\n",
      "                                               About  \\\n",
      "0  Kunal Kushwaha is the Field CTO at Civo, where...   \n",
      "\n",
      "                                           Education  \\\n",
      "0  [{'School': 'Maharaja Agrasen Institute Of Tec...   \n",
      "\n",
      "                                          Experience  \\\n",
      "0  [{'Job Title': 'Civo', 'Company': 'Full-time ·...   \n",
      "\n",
      "                                              Skills  \n",
      "0  ['Data Science', 'Public Speaking', 'Data Stru...  \n"
     ]
    }
   ],
   "source": [
    "print(df)"
   ]
  },
  {
   "cell_type": "code",
   "execution_count": null,
   "id": "a3c4f06b",
   "metadata": {},
   "outputs": [],
   "source": []
  }
 ],
 "metadata": {
  "kernelspec": {
   "display_name": "venv",
   "language": "python",
   "name": "python3"
  },
  "language_info": {
   "codemirror_mode": {
    "name": "ipython",
    "version": 3
   },
   "file_extension": ".py",
   "mimetype": "text/x-python",
   "name": "python",
   "nbconvert_exporter": "python",
   "pygments_lexer": "ipython3",
   "version": "3.12.3"
  }
 },
 "nbformat": 4,
 "nbformat_minor": 5
}
